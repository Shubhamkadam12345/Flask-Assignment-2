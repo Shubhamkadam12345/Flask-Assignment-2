{
 "cells": [
  {
   "cell_type": "code",
   "execution_count": null,
   "id": "69cc007c-9364-4711-ae12-365e2f3b9395",
   "metadata": {},
   "outputs": [],
   "source": [
    "Q.1"
   ]
  },
  {
   "cell_type": "code",
   "execution_count": null,
   "id": "f9bd2bda-5fc3-4844-8127-6d5d280bbaf2",
   "metadata": {},
   "outputs": [],
   "source": [
    "1) Get Method:-\n",
    "               A Hyper text transform protocol (HTTP) method that is applied while requesting \n",
    "    information from a particular sources.\n",
    "2) Post method:-\n",
    "               Sends, POST request to the specified url."
   ]
  },
  {
   "cell_type": "code",
   "execution_count": null,
   "id": "c0e52196-65b8-4b5a-995d-fff83bda5362",
   "metadata": {},
   "outputs": [],
   "source": [
    "Q.2"
   ]
  },
  {
   "cell_type": "code",
   "execution_count": null,
   "id": "11baba53-9837-4279-a973-c78c5f714e27",
   "metadata": {},
   "outputs": [],
   "source": [
    "The Request, in flask, is an object that contains all the data sent from the client to \n",
    "server."
   ]
  },
  {
   "cell_type": "code",
   "execution_count": null,
   "id": "966c1b61-0611-4315-b1a6-071474d8b9a7",
   "metadata": {},
   "outputs": [],
   "source": [
    "Q.3"
   ]
  },
  {
   "cell_type": "code",
   "execution_count": null,
   "id": "ee90f83a-30b1-48bb-b921-5de3f1bcd18f",
   "metadata": {},
   "outputs": [],
   "source": [
    "A redirect is used in the flask class to send the users to particular URL with the status code."
   ]
  },
  {
   "cell_type": "code",
   "execution_count": null,
   "id": "be8a8341-d607-4632-913d-c8dfd0975cd7",
   "metadata": {},
   "outputs": [],
   "source": [
    "Q.4"
   ]
  },
  {
   "cell_type": "code",
   "execution_count": null,
   "id": "7b2c42d2-87ca-4c7a-bc4b-705c0fbf3de2",
   "metadata": {},
   "outputs": [],
   "source": [
    "1) Templates are files that contain static data as well as placheholders for dynamic data.\n",
    "2) Render__templates is used to generate output from a template file based on the jinja 2 engine that\n",
    "is found in the applications templates folders."
   ]
  },
  {
   "cell_type": "code",
   "execution_count": null,
   "id": "7d5a6516-3b34-4b3e-b907-0447636834fa",
   "metadata": {},
   "outputs": [],
   "source": [
    "Q.5"
   ]
  },
  {
   "cell_type": "code",
   "execution_count": null,
   "id": "89c71e69-fb86-4271-b84c-7dc0af1ef923",
   "metadata": {},
   "outputs": [],
   "source": [
    "@app.route(/potman_data;method=['POST'])\n",
    "def math__operation 1 ():\n",
    "      if (request. methodjson [ operation ]\n",
    "      num 1= int ( request. json ['num 1'])\n",
    "      num 2= int ( request. json [ 'num 2'])\n",
    "      if (ops== 'add'):\n",
    "          r= num 1+ num2\n",
    "1) result = \"the sum of '+ str (num) + 'and' if ( ops == substract ) :\n",
    "        r= num 1- num 2\n",
    "2) result = 'the substract of + str ( num 1 ) + and str ( num 2 ) + \"is \" + str if ( ops == 'multiply' ) :\n",
    "         r= num1 * num2\n",
    "3) result = ' the multiply of + str ( num 1 ) + str ( num2 ) + \" is \"+ str if ( op == 'divide'):\n",
    "         r= num1/ num2\n",
    "    ressult = the divided of + str ( num 1 ) + and + str ( num 2) + is + str (r)\n",
    "    \n",
    "    return jsonify        "
   ]
  }
 ],
 "metadata": {
  "kernelspec": {
   "display_name": "Python 3 (ipykernel)",
   "language": "python",
   "name": "python3"
  },
  "language_info": {
   "codemirror_mode": {
    "name": "ipython",
    "version": 3
   },
   "file_extension": ".py",
   "mimetype": "text/x-python",
   "name": "python",
   "nbconvert_exporter": "python",
   "pygments_lexer": "ipython3",
   "version": "3.10.8"
  }
 },
 "nbformat": 4,
 "nbformat_minor": 5
}
